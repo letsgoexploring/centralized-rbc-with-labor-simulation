{
 "cells": [
  {
   "cell_type": "code",
   "execution_count": 21,
   "metadata": {
    "collapsed": true
   },
   "outputs": [],
   "source": [
    "import matplotlib.pyplot as plt\n",
    "import numpy as np\n",
    "import pandas as pd\n",
    "import linearsolve as ls\n",
    "from scipy.optimize import fsolve\n",
    "%matplotlib inline"
   ]
  },
  {
   "cell_type": "code",
   "execution_count": 22,
   "metadata": {
    "collapsed": true
   },
   "outputs": [],
   "source": [
    "# 1. Input model parameters and print\n",
    "rho = .9\n",
    "sigma = 1\n",
    "alpha = 0.33\n",
    "delta = 0.025\n",
    "beta = 0.98\n",
    "phi = 1.5\n",
    "eta = 1\n",
    "\n",
    "parameters = pd.Series()\n",
    "parameters['rho'] = rho\n",
    "parameters['sigma'] = sigma\n",
    "parameters['alpha'] = alpha\n",
    "parameters['delta'] = delta\n",
    "parameters['beta'] = beta\n",
    "parameters['phi'] = phi\n",
    "parameters['eta'] = eta"
   ]
  },
  {
   "cell_type": "code",
   "execution_count": 23,
   "metadata": {},
   "outputs": [
    {
     "name": "stdout",
     "output_type": "stream",
     "text": [
      "A: 1\n",
      "L: 0.3531\n",
      "K: 6.81618\n",
      "Y: 0.93791\n",
      "I: 0.1704\n",
      "C: 0.76751\n"
     ]
    }
   ],
   "source": [
    "# 2. Compute the steady state equilibrium manually\n",
    "A = 1\n",
    "k = (alpha*A/(beta**-1+delta-1))**(1/(1-alpha))\n",
    "def L_fun(l_val):\n",
    "    \n",
    "    return l_val**sigma*(1-l_val)**-eta - phi**-1*(A*k**alpha-delta*k)**-sigma*(1-alpha)*A*k**alpha\n",
    "    \n",
    "\n",
    "L = fsolve(L_fun,x0=0.3)[0]\n",
    "# L = 1 / ( 1 + phi/(1-alpha)*((beta**-1 + (1-alpha)*delta -1)/(beta**-1+delta-1)))\n",
    "K = L*(alpha*A/(beta**-1+delta-1))**(1/(1-alpha))\n",
    "C = A*K**alpha*L**(1-alpha) - delta*K\n",
    "Y = A*K**alpha*L**(1-alpha)\n",
    "I = delta*K\n",
    "\n",
    "print('A:',round(A,5))\n",
    "print('L:',round(L,5))\n",
    "print('K:',round(K,5))\n",
    "print('Y:',round(Y,5))\n",
    "print('I:',round(I,5))\n",
    "print('C:',round(C,5))"
   ]
  },
  {
   "cell_type": "code",
   "execution_count": 24,
   "metadata": {},
   "outputs": [
    {
     "data": {
      "text/plain": [
       "0.35310140636565018"
      ]
     },
     "execution_count": 24,
     "metadata": {},
     "output_type": "execute_result"
    }
   ],
   "source": [
    "L"
   ]
  },
  {
   "cell_type": "code",
   "execution_count": 25,
   "metadata": {
    "collapsed": true
   },
   "outputs": [],
   "source": [
    "# 3. Define a function that evaluates the equilibrium conditions\n",
    "def equilibrium_equations(variables_forward,variables_current,parameters):\n",
    "    \n",
    "    # Parameters \n",
    "    p = parameters\n",
    "    \n",
    "    # Variables\n",
    "    fwd = variables_forward\n",
    "    cur = variables_current\n",
    "        \n",
    "    # Resource constraint\n",
    "    resource =  cur.a*cur.k**p.alpha*cur.l**(1-p.alpha) + (1-p.delta)*cur.k - fwd.k - cur.c\n",
    "    \n",
    "    # Exogenous tfp\n",
    "    tfp_process = p.rho*np.log(cur.a) - np.log(fwd.a)\n",
    "    \n",
    "    # Euler equation\n",
    "    euler = p.beta*(p.alpha*fwd.a*fwd.k**(p.alpha-1)*fwd.l**(1-p.alpha) + 1 - p.delta)*fwd.c**-p.sigma - cur.c**-p.sigma\n",
    "    \n",
    "    # Labor supply\n",
    "    labor_supply = p.phi*(1-cur.l)**-p.eta - (1-p.alpha)*cur.a*cur.k**alpha *cur.l**(-p.alpha)*cur.c**-p.sigma\n",
    "    \n",
    "    # Production\n",
    "    production = cur.a*cur.k**p.alpha*cur.l**(1-p.alpha) - cur.y\n",
    "    \n",
    "    # Capital evoluation\n",
    "    capital_evolution = cur.i + (1-p.delta)*cur.k - fwd.k\n",
    "    \n",
    "    # Stack equilibrium conditions into a numpy array\n",
    "    return np.array([\n",
    "        resource,\n",
    "        tfp_process,\n",
    "        euler,\n",
    "        labor_supply,\n",
    "        production,\n",
    "        capital_evolution\n",
    "        ])"
   ]
  },
  {
   "cell_type": "code",
   "execution_count": 26,
   "metadata": {},
   "outputs": [
    {
     "name": "stdout",
     "output_type": "stream",
     "text": [
      "a    1.000000\n",
      "k    6.816183\n",
      "c    0.767506\n",
      "y    0.937910\n",
      "i    0.170405\n",
      "l    0.353101\n",
      "dtype: float64\n"
     ]
    }
   ],
   "source": [
    "# 4. Initialize the model\n",
    "model = ls.model(equations = equilibrium_equations,\n",
    "                 nstates=2,\n",
    "                 varNames=['a','k','c','y','i','l'],                   # Any order as long as the state variables are named first\n",
    "                 shockNames=['eA','eK'],                 # Name a shock for each state variable *even if there is no corresponding shock in the model*\n",
    "                 parameters = parameters)\n",
    "\n",
    "guess = [A,K,C,Y,I,L]\n",
    "model.compute_ss(guess)\n",
    "model.approximate_and_solve()\n",
    "\n",
    "print(model.ss)"
   ]
  },
  {
   "cell_type": "code",
   "execution_count": 27,
   "metadata": {
    "collapsed": true
   },
   "outputs": [],
   "source": [
    "# 3. Define a function that evaluates the equilibrium conditions\n",
    "def equilibrium_equations_consolidated(variables_forward,variables_current,parameters):\n",
    "    \n",
    "    # Parameters \n",
    "    p = parameters\n",
    "    \n",
    "    # Variables\n",
    "    fwd = variables_forward\n",
    "    cur = variables_current\n",
    "            \n",
    "    # Exogenous tfp\n",
    "    tfp_process = p.rho*np.log(cur.a) - np.log(fwd.a)\n",
    "    \n",
    "#     Euler equation\n",
    "    euler = p.beta*(1-fwd.l)**-p.eta*fwd.a**-1*fwd.k**-p.alpha*fwd.l**p.alpha*(p.alpha*fwd.a*fwd.k**(p.alpha-1)*fwd.l**(1-p.alpha)+1-p.delta)-(1-cur.l)**-p.eta*cur.a**-1*cur.k**-p.alpha*cur.l**p.alpha\n",
    "#     euler = p.beta*(1-fwd.l)**-p.eta*cur.a**-p.rho*fwd.k**-p.alpha*fwd.l**p.alpha*(p.alpha*cur.a**p.rho*fwd.k**(p.alpha-1)*fwd.l**(1-p.alpha)+1-p.delta)-(1-cur.l)**-p.eta*cur.a**-1*cur.k**-p.alpha*cur.l**p.alpha\n",
    "    \n",
    "    # Labor supply\n",
    "    resource = (p.phi/(1-p.alpha)*(1-cur.l)**-p.eta*cur.a**-1*cur.k**-p.alpha*cur.l**p.alpha)**(-1/p.sigma) + fwd.k - (1-p.delta)*cur.k - cur.a*cur.k**p.alpha*cur.l**(1-p.alpha)\n",
    "    \n",
    "#     # Output\n",
    "#     output = cur.a*cur.k**p.alpha*cur.l**(1-p.alpha) - cur.y\n",
    "    \n",
    "#     # Investment\n",
    "#     investment = fwd.k - (1-p.delta)*cur.k - cur.i\n",
    "    \n",
    "#     # Consumption\n",
    "#     consumption = cur.y - cur.i - cur.c\n",
    "        \n",
    "    # Stack equilibrium conditions into a numpy array\n",
    "    return np.array([\n",
    "        tfp_process,\n",
    "        euler,\n",
    "        resource,\n",
    "#         output,\n",
    "#         investment,\n",
    "#         consumption\n",
    "        ])"
   ]
  },
  {
   "cell_type": "code",
   "execution_count": 28,
   "metadata": {},
   "outputs": [
    {
     "name": "stdout",
     "output_type": "stream",
     "text": [
      "a    1.000000\n",
      "k    6.816183\n",
      "l    0.353101\n",
      "dtype: float64\n"
     ]
    }
   ],
   "source": [
    "# 4. Initialize the model\n",
    "model_consolidated = ls.model(equations = equilibrium_equations_consolidated,\n",
    "                 nstates=2,\n",
    "#                  varNames=['a','k','c','y','i','l'], \n",
    "                 varNames=['a','k','l'],                   # Any order as long as the state variables are named first\n",
    "                 shockNames=['eA','eK'],                 # Name a shock for each state variable *even if there is no corresponding shock in the model*\n",
    "                 parameters = parameters)\n",
    "\n",
    "guess = [A,K,L]\n",
    "# guess = [A,K,C,Y,I,L]\n",
    "model_consolidated.compute_ss(guess)\n",
    "model_consolidated.approximate_and_solve()\n",
    "\n",
    "print(model_consolidated.ss)"
   ]
  },
  {
   "cell_type": "code",
   "execution_count": 34,
   "metadata": {},
   "outputs": [
    {
     "data": {
      "image/png": "[encoded data removed]",
      "text/plain": [
       "<matplotlib.figure.Figure at 0x1178dbf98>"
      ]
     },
     "metadata": {},
     "output_type": "display_data"
    }
   ],
   "source": [
    "# 5(a) Compute impulse responses and print the computed impulse responses\n",
    "model.impulse(T=41,t0=1,shock=None,percent=True)\n",
    "model_consolidated.impulse(T=41,t0=1,shock=None,percent=True)\n",
    "\n",
    "# 5(b) Plot the computed impulse responses to a TFP shock\n",
    "fig = plt.figure(figsize=(12,12))\n",
    "\n",
    "ax1 = fig.add_subplot(3,2,1)\n",
    "model.irs['eA'][['a']].plot(lw=5,alpha=0.5,grid=True,ax = ax1).legend(loc='upper right',ncol=4)\n",
    "model_consolidated.irs['eA'][['a']].plot(lw=5,alpha=0.5,grid=True,ax = ax1).legend(loc='upper right',ncol=4)\n",
    "ax1.set_title('TFP')\n",
    "ax1.set_ylabel('% dev')\n",
    "ax1.set_xlabel('quarters')\n",
    "\n",
    "ax2 = fig.add_subplot(3,2,2)\n",
    "model.irs['eA'][['k']].plot(lw=5,alpha=0.5,grid=True,ax = ax2).legend(loc='upper right',ncol=2)\n",
    "model_consolidated.irs['eA'][['k']].plot(lw=5,alpha=0.5,grid=True,ax = ax2).legend(loc='upper right',ncol=2)\n",
    "ax2.set_title('capital')\n",
    "ax2.set_ylabel('% dev')\n",
    "ax2.set_xlabel('quarters')\n",
    "\n",
    "ax3 = fig.add_subplot(3,2,3)\n",
    "model.irs['eA'][['l']].plot(lw=5,alpha=0.5,grid=True,ax = ax3).legend(loc='upper right',ncol=4)\n",
    "model_consolidated.irs['eA'][['l']].plot(lw=5,alpha=0.5,grid=True,ax = ax3).legend(loc='upper right',ncol=4)\n",
    "ax3.set_title('labor')\n",
    "ax3.set_ylabel('% dev')\n",
    "ax3.set_xlabel('quarters')\n",
    "\n",
    "# ax4 = fig.add_subplot(3,2,4)\n",
    "# model.irs['eA'][['y']].plot(lw=5,alpha=0.5,grid=True,ax = ax4).legend(loc='upper right',ncol=4)\n",
    "# model_consolidated.irs['eA'][['y']].plot(lw=5,alpha=0.5,grid=True,ax = ax4).legend(loc='upper right',ncol=4)\n",
    "# ax4.set_title('output')\n",
    "# ax4.set_ylabel('% dev')\n",
    "# ax4.set_xlabel('quarters')\n",
    "\n",
    "# ax5 = fig.add_subplot(3,2,5)\n",
    "# model.irs['eA'][['i']].plot(lw=5,alpha=0.5,grid=True,ax = ax5).legend(loc='upper right',ncol=4)\n",
    "# model_consolidated.irs['eA'][['i']].plot(lw=5,alpha=0.5,grid=True,ax = ax5).legend(loc='upper right',ncol=4)\n",
    "# ax5.set_title('investment')\n",
    "# ax5.set_ylabel('% dev')\n",
    "# ax5.set_xlabel('quarters')\n",
    "\n",
    "\n",
    "# ax6 = fig.add_subplot(3,2,6)\n",
    "# model.irs['eA'][['c']].plot(lw=5,alpha=0.5,grid=True,ax = ax6).legend(loc='upper right',ncol=4)\n",
    "# model_consolidated.irs['eA'][['c']].plot(lw=5,alpha=0.5,grid=True,ax = ax6).legend(loc='upper right',ncol=4)\n",
    "# ax6.set_title('consumption')\n",
    "# ax6.set_ylabel('% dev')\n",
    "# ax6.set_xlabel('quarters')\n",
    "\n",
    "plt.tight_layout()"
   ]
  },
  {
   "cell_type": "code",
   "execution_count": 45,
   "metadata": {},
   "outputs": [
    {
     "data": {
      "text/html": [
       "<div>\n",
       "<style>\n",
       "    .dataframe thead tr:only-child th {\n",
       "        text-align: right;\n",
       "    }\n",
       "\n",
       "    .dataframe thead th {\n",
       "        text-align: left;\n",
       "    }\n",
       "\n",
       "    .dataframe tbody tr th {\n",
       "        vertical-align: top;\n",
       "    }\n",
       "</style>\n",
       "<table border=\"1\" class=\"dataframe\">\n",
       "  <thead>\n",
       "    <tr style=\"text-align: right;\">\n",
       "      <th></th>\n",
       "      <th>i</th>\n",
       "    </tr>\n",
       "  </thead>\n",
       "  <tbody>\n",
       "    <tr>\n",
       "      <th>0</th>\n",
       "      <td>0.000000</td>\n",
       "    </tr>\n",
       "    <tr>\n",
       "      <th>1</th>\n",
       "      <td>6.568957</td>\n",
       "    </tr>\n",
       "    <tr>\n",
       "      <th>2</th>\n",
       "      <td>5.657518</td>\n",
       "    </tr>\n",
       "    <tr>\n",
       "      <th>3</th>\n",
       "      <td>4.853450</td>\n",
       "    </tr>\n",
       "    <tr>\n",
       "      <th>4</th>\n",
       "      <td>4.144981</td>\n",
       "    </tr>\n",
       "    <tr>\n",
       "      <th>5</th>\n",
       "      <td>3.521583</td>\n",
       "    </tr>\n",
       "    <tr>\n",
       "      <th>6</th>\n",
       "      <td>2.973842</td>\n",
       "    </tr>\n",
       "    <tr>\n",
       "      <th>7</th>\n",
       "      <td>2.493344</td>\n",
       "    </tr>\n",
       "    <tr>\n",
       "      <th>8</th>\n",
       "      <td>2.072569</td>\n",
       "    </tr>\n",
       "    <tr>\n",
       "      <th>9</th>\n",
       "      <td>1.704800</td>\n",
       "    </tr>\n",
       "    <tr>\n",
       "      <th>10</th>\n",
       "      <td>1.384041</td>\n",
       "    </tr>\n",
       "    <tr>\n",
       "      <th>11</th>\n",
       "      <td>1.104938</td>\n",
       "    </tr>\n",
       "    <tr>\n",
       "      <th>12</th>\n",
       "      <td>0.862715</td>\n",
       "    </tr>\n",
       "    <tr>\n",
       "      <th>13</th>\n",
       "      <td>0.653112</td>\n",
       "    </tr>\n",
       "    <tr>\n",
       "      <th>14</th>\n",
       "      <td>0.472331</td>\n",
       "    </tr>\n",
       "    <tr>\n",
       "      <th>15</th>\n",
       "      <td>0.316990</td>\n",
       "    </tr>\n",
       "    <tr>\n",
       "      <th>16</th>\n",
       "      <td>0.184074</td>\n",
       "    </tr>\n",
       "    <tr>\n",
       "      <th>17</th>\n",
       "      <td>0.070903</td>\n",
       "    </tr>\n",
       "    <tr>\n",
       "      <th>18</th>\n",
       "      <td>-0.024910</td>\n",
       "    </tr>\n",
       "    <tr>\n",
       "      <th>19</th>\n",
       "      <td>-0.105486</td>\n",
       "    </tr>\n",
       "    <tr>\n",
       "      <th>20</th>\n",
       "      <td>-0.172709</td>\n",
       "    </tr>\n",
       "    <tr>\n",
       "      <th>21</th>\n",
       "      <td>-0.228251</td>\n",
       "    </tr>\n",
       "    <tr>\n",
       "      <th>22</th>\n",
       "      <td>-0.273598</td>\n",
       "    </tr>\n",
       "    <tr>\n",
       "      <th>23</th>\n",
       "      <td>-0.310064</td>\n",
       "    </tr>\n",
       "    <tr>\n",
       "      <th>24</th>\n",
       "      <td>-0.338814</td>\n",
       "    </tr>\n",
       "    <tr>\n",
       "      <th>25</th>\n",
       "      <td>-0.360880</td>\n",
       "    </tr>\n",
       "    <tr>\n",
       "      <th>26</th>\n",
       "      <td>-0.377173</td>\n",
       "    </tr>\n",
       "    <tr>\n",
       "      <th>27</th>\n",
       "      <td>-0.388497</td>\n",
       "    </tr>\n",
       "    <tr>\n",
       "      <th>28</th>\n",
       "      <td>-0.395563</td>\n",
       "    </tr>\n",
       "    <tr>\n",
       "      <th>29</th>\n",
       "      <td>-0.398994</td>\n",
       "    </tr>\n",
       "    <tr>\n",
       "      <th>30</th>\n",
       "      <td>-0.399343</td>\n",
       "    </tr>\n",
       "    <tr>\n",
       "      <th>31</th>\n",
       "      <td>-0.397090</td>\n",
       "    </tr>\n",
       "    <tr>\n",
       "      <th>32</th>\n",
       "      <td>-0.392661</td>\n",
       "    </tr>\n",
       "    <tr>\n",
       "      <th>33</th>\n",
       "      <td>-0.386425</td>\n",
       "    </tr>\n",
       "    <tr>\n",
       "      <th>34</th>\n",
       "      <td>-0.378708</td>\n",
       "    </tr>\n",
       "    <tr>\n",
       "      <th>35</th>\n",
       "      <td>-0.369791</td>\n",
       "    </tr>\n",
       "    <tr>\n",
       "      <th>36</th>\n",
       "      <td>-0.359919</td>\n",
       "    </tr>\n",
       "    <tr>\n",
       "      <th>37</th>\n",
       "      <td>-0.349307</td>\n",
       "    </tr>\n",
       "    <tr>\n",
       "      <th>38</th>\n",
       "      <td>-0.338138</td>\n",
       "    </tr>\n",
       "    <tr>\n",
       "      <th>39</th>\n",
       "      <td>-0.326571</td>\n",
       "    </tr>\n",
       "    <tr>\n",
       "      <th>40</th>\n",
       "      <td>-0.314743</td>\n",
       "    </tr>\n",
       "  </tbody>\n",
       "</table>\n",
       "</div>"
      ],
      "text/plain": [
       "           i\n",
       "0   0.000000\n",
       "1   6.568957\n",
       "2   5.657518\n",
       "3   4.853450\n",
       "4   4.144981\n",
       "5   3.521583\n",
       "6   2.973842\n",
       "7   2.493344\n",
       "8   2.072569\n",
       "9   1.704800\n",
       "10  1.384041\n",
       "11  1.104938\n",
       "12  0.862715\n",
       "13  0.653112\n",
       "14  0.472331\n",
       "15  0.316990\n",
       "16  0.184074\n",
       "17  0.070903\n",
       "18 -0.024910\n",
       "19 -0.105486\n",
       "20 -0.172709\n",
       "21 -0.228251\n",
       "22 -0.273598\n",
       "23 -0.310064\n",
       "24 -0.338814\n",
       "25 -0.360880\n",
       "26 -0.377173\n",
       "27 -0.388497\n",
       "28 -0.395563\n",
       "29 -0.398994\n",
       "30 -0.399343\n",
       "31 -0.397090\n",
       "32 -0.392661\n",
       "33 -0.386425\n",
       "34 -0.378708\n",
       "35 -0.369791\n",
       "36 -0.359919\n",
       "37 -0.349307\n",
       "38 -0.338138\n",
       "39 -0.326571\n",
       "40 -0.314743"
      ]
     },
     "execution_count": 45,
     "metadata": {},
     "output_type": "execute_result"
    }
   ],
   "source": [
    "model.irs['eA'][['i']]"
   ]
  },
  {
   "cell_type": "code",
   "execution_count": 37,
   "metadata": {},
   "outputs": [
    {
     "name": "stdout",
     "output_type": "stream",
     "text": [
      "Solution to the log-linear system:\n",
      "\n",
      "a[t+1] = 0.9·a[t]+eA[t+1]\n",
      "\n",
      "k[t+1] = 0.1642·a[t]+0.9363·k[t]+eK[t+1]\n",
      "\n",
      "  c[t] = 0.361·a[t]+0.5457·k[t]\n",
      "\n",
      "  y[t] = 1.4889·a[t]+0.165·k[t]\n",
      "\n",
      "  i[t] = 6.569·a[t]-1.55·k[t]\n",
      "\n",
      "  l[t] = 0.7296·a[t]-0.2463·k[t]\n"
     ]
    }
   ],
   "source": [
    "print(model.solved())"
   ]
  },
  {
   "cell_type": "code",
   "execution_count": 10,
   "metadata": {
    "collapsed": true
   },
   "outputs": [],
   "source": [
    "# Compute the coefficients of the log-linearization\n",
    "\n",
    "GAMMA  = (1-L)**-eta/A/K**alpha*L**alpha\n",
    "PHI = sigma**-1*(phi/(1-alpha)*(1-L)**-eta*A**-1*K**-alpha*L**alpha)**(-1/sigma)\n",
    "\n",
    "phi_01 = beta*GAMMA*(alpha*(delta-1)-alpha*Y/K)\n",
    "phi_02 = beta*GAMMA*(eta*(1-L)**-1*L*(alpha*Y/K+1-delta) + alpha*Y/K + alpha*(1 - delta))\n",
    "phi_03 = -alpha*GAMMA\n",
    "\n",
    "phi_00 = beta*GAMMA*(delta-1)\n",
    "phi_04_lhs = phi_00*rho\n",
    "phi_04_rhs = -GAMMA\n",
    "\n",
    "phi_04=-phi_04_lhs+phi_04_rhs\n",
    "phi_05 = GAMMA*(eta*L/(1-L)+alpha)\n",
    "phi_06 = K\n",
    "phi_08 = alpha*Y + (1-delta)*K - PHI*alpha\n",
    "phi_09 = Y - PHI\n",
    "phi_10 = PHI*(eta*(1-L)**-1*L+alpha) + (1-alpha)*Y"
   ]
  },
  {
   "cell_type": "code",
   "execution_count": 11,
   "metadata": {},
   "outputs": [
    {
     "name": "stdout",
     "output_type": "stream",
     "text": [
      "GAMMA= 0.435162171228\n",
      "PHI= 144.107609954\n",
      "phi_01= -0.162135985473\n",
      "phi_02= 0.380239559631\n",
      "phi_03= -0.15230675993\n",
      "phi_04= -0.0361238997391\n",
      "phi_05= 0.370410334088\n",
      "phi_06= 11.4844167166\n",
      "phi_08= -38.837242558\n",
      "phi_09= -142.955853876\n",
      "phi_10= 123.413136383\n"
     ]
    }
   ],
   "source": [
    "print('GAMMA=',GAMMA)\n",
    "print('PHI=',PHI)\n",
    "print('phi_01=',phi_01)\n",
    "print('phi_02=',phi_02)\n",
    "print('phi_03=',phi_03)\n",
    "print('phi_04=',phi_04)\n",
    "print('phi_05=',phi_05)\n",
    "print('phi_06=',phi_06)\n",
    "print('phi_08=',phi_08)\n",
    "print('phi_09=',phi_09)\n",
    "print('phi_10=',phi_10)"
   ]
  },
  {
   "cell_type": "code",
   "execution_count": null,
   "metadata": {
    "collapsed": true
   },
   "outputs": [],
   "source": []
  },
  {
   "cell_type": "code",
   "execution_count": null,
   "metadata": {
    "collapsed": true
   },
   "outputs": [],
   "source": []
  },
  {
   "cell_type": "code",
   "execution_count": 12,
   "metadata": {
    "collapsed": true
   },
   "outputs": [],
   "source": [
    "gamma_03_poly_2 = phi_06**-1*phi_02*phi_10\n",
    "gamma_03_poly_1 = phi_06**-1*(phi_01*phi_10+phi_02*phi_08)-phi_05\n",
    "gamma_03_poly_0 = phi_06**-1*phi_01*phi_08-phi_03\n",
    "\n",
    "gamma_03 = np.min(np.roots([gamma_03_poly_2,gamma_03_poly_1,gamma_03_poly_0]))\n",
    "gamma_01 = phi_06**-1*(phi_08+phi_10*gamma_03)\n",
    "\n",
    "a = phi_04-phi_06**-1*(phi_02*gamma_03*phi_09 + phi_01*phi_09)\n",
    "b = phi_06**-1*(phi_01*phi_10+phi_02*gamma_03*phi_10)+phi_02*rho-phi_05 \n",
    "\n",
    "gamma_04 = (phi_04-phi_06**-1*(phi_02*gamma_03*phi_09 + phi_01*phi_09))/(phi_06**-1*(phi_01*phi_10+phi_02*gamma_03*phi_10)+phi_02*rho-phi_05 )\n",
    "gamma_02 = phi_06**-1*(phi_09+phi_10*gamma_04)"
   ]
  },
  {
   "cell_type": "code",
   "execution_count": 13,
   "metadata": {
    "scrolled": true
   },
   "outputs": [
    {
     "name": "stdout",
     "output_type": "stream",
     "text": [
      "0.672408825343 1.30439233362 0.377265071422 1.27973442395\n"
     ]
    }
   ],
   "source": [
    "print(gamma_01,gamma_02,gamma_03,gamma_04)"
   ]
  },
  {
   "cell_type": "code",
   "execution_count": 14,
   "metadata": {},
   "outputs": [
    {
     "name": "stdout",
     "output_type": "stream",
     "text": [
      "Solution to the log-linear system:\n",
      "\n",
      "a[t+1] = 0.95·a[t]+eA[t+1]\n",
      "\n",
      "k[t+1] = 1.3044·a[t]+0.6724·k[t]+eK[t+1]\n",
      "\n",
      "  l[t] = 1.2797·a[t]+0.3773·k[t]\n"
     ]
    }
   ],
   "source": [
    "print(model_consolidated.solved())"
   ]
  },
  {
   "cell_type": "code",
   "execution_count": null,
   "metadata": {
    "collapsed": true
   },
   "outputs": [],
   "source": []
  },
  {
   "cell_type": "code",
   "execution_count": null,
   "metadata": {
    "collapsed": true
   },
   "outputs": [],
   "source": []
  },
  {
   "cell_type": "code",
   "execution_count": 15,
   "metadata": {
    "collapsed": true
   },
   "outputs": [],
   "source": [
    "def myfun(x):\n",
    "    \n",
    "    PSI_01, PSI_02, PSI_03, PSI_04 = x\n",
    "    \n",
    "    retval = np.zeros(4)\n",
    "    \n",
    "    retval[0] = phi_01*PSI_01+phi_02*PSI_03*PSI_01 - phi_03-phi_05*PSI_03\n",
    "    retval[1] = phi_01*PSI_02+phi_02*(PSI_03*PSI_02+PSI_04*rho)- phi_04-phi_05*PSI_04\n",
    "    retval[2] = phi_06*PSI_01-phi_08-phi_10*PSI_03\n",
    "    retval[3] = phi_06*PSI_02-phi_09-phi_10*PSI_04\n",
    "    \n",
    "    return retval\n",
    "    "
   ]
  },
  {
   "cell_type": "code",
   "execution_count": 16,
   "metadata": {},
   "outputs": [
    {
     "name": "stdout",
     "output_type": "stream",
     "text": [
      "PSI_01 0.672408825332 \n",
      "PSI_02 1.30439233357 \n",
      "PSI_03 0.377265071421 \n",
      "PSI_04 1.27973442394\n"
     ]
    }
   ],
   "source": [
    "PSI_01, PSI_02, PSI_03, PSI_04 = fsolve(myfun,x0=[1,1,1,1])\n",
    "print('PSI_01',PSI_01, '\\nPSI_02',PSI_02, '\\nPSI_03',PSI_03, '\\nPSI_04',PSI_04)"
   ]
  },
  {
   "cell_type": "code",
   "execution_count": 17,
   "metadata": {},
   "outputs": [
    {
     "ename": "NameError",
     "evalue": "name 'psi_01' is not defined",
     "output_type": "error",
     "traceback": [
      "\u001b[0;31m---------------------------------------------------------------------------\u001b[0m",
      "\u001b[0;31mNameError\u001b[0m                                 Traceback (most recent call last)",
      "\u001b[0;32m<ipython-input-17-929edd228330>\u001b[0m in \u001b[0;36m<module>\u001b[0;34m()\u001b[0m\n\u001b[0;32m----> 1\u001b[0;31m \u001b[0mprint\u001b[0m\u001b[0;34m(\u001b[0m\u001b[0mnp\u001b[0m\u001b[0;34m.\u001b[0m\u001b[0misclose\u001b[0m\u001b[0;34m(\u001b[0m\u001b[0mPSI_01\u001b[0m\u001b[0;34m,\u001b[0m\u001b[0mpsi_01\u001b[0m\u001b[0;34m)\u001b[0m\u001b[0;34m)\u001b[0m\u001b[0;34m\u001b[0m\u001b[0m\n\u001b[0m\u001b[1;32m      2\u001b[0m \u001b[0mprint\u001b[0m\u001b[0;34m(\u001b[0m\u001b[0mnp\u001b[0m\u001b[0;34m.\u001b[0m\u001b[0misclose\u001b[0m\u001b[0;34m(\u001b[0m\u001b[0mPSI_02\u001b[0m\u001b[0;34m,\u001b[0m\u001b[0mpsi_02\u001b[0m\u001b[0;34m)\u001b[0m\u001b[0;34m)\u001b[0m\u001b[0;34m\u001b[0m\u001b[0m\n\u001b[1;32m      3\u001b[0m \u001b[0mprint\u001b[0m\u001b[0;34m(\u001b[0m\u001b[0mnp\u001b[0m\u001b[0;34m.\u001b[0m\u001b[0misclose\u001b[0m\u001b[0;34m(\u001b[0m\u001b[0mPSI_03\u001b[0m\u001b[0;34m,\u001b[0m\u001b[0mpsi_03\u001b[0m\u001b[0;34m)\u001b[0m\u001b[0;34m)\u001b[0m\u001b[0;34m\u001b[0m\u001b[0m\n\u001b[1;32m      4\u001b[0m \u001b[0mprint\u001b[0m\u001b[0;34m(\u001b[0m\u001b[0mnp\u001b[0m\u001b[0;34m.\u001b[0m\u001b[0misclose\u001b[0m\u001b[0;34m(\u001b[0m\u001b[0mPSI_04\u001b[0m\u001b[0;34m,\u001b[0m\u001b[0mpsi_04\u001b[0m\u001b[0;34m)\u001b[0m\u001b[0;34m)\u001b[0m\u001b[0;34m\u001b[0m\u001b[0m\n",
      "\u001b[0;31mNameError\u001b[0m: name 'psi_01' is not defined"
     ]
    }
   ],
   "source": [
    "print(np.isclose(PSI_01,psi_01))\n",
    "print(np.isclose(PSI_02,psi_02))\n",
    "print(np.isclose(PSI_03,psi_03))\n",
    "print(np.isclose(PSI_04,psi_04))"
   ]
  },
  {
   "cell_type": "code",
   "execution_count": null,
   "metadata": {},
   "outputs": [],
   "source": [
    "print(np.isclose(psi_04,np.array(model_consolidated.f)[0][0]))\n",
    "print(np.isclose(psi_03,np.array(model_consolidated.f)[0][1]))\n",
    "print(np.isclose(psi_01,np.array(model_consolidated.p)[1][1]))\n",
    "print(np.isclose(psi_02,np.array(model_consolidated.p)[1][0]))"
   ]
  },
  {
   "cell_type": "code",
   "execution_count": null,
   "metadata": {
    "collapsed": true
   },
   "outputs": [],
   "source": []
  },
  {
   "cell_type": "code",
   "execution_count": null,
   "metadata": {
    "collapsed": true
   },
   "outputs": [],
   "source": []
  },
  {
   "cell_type": "code",
   "execution_count": null,
   "metadata": {
    "collapsed": true
   },
   "outputs": [],
   "source": []
  },
  {
   "cell_type": "code",
   "execution_count": null,
   "metadata": {
    "collapsed": true
   },
   "outputs": [],
   "source": []
  },
  {
   "cell_type": "code",
   "execution_count": null,
   "metadata": {
    "collapsed": true
   },
   "outputs": [],
   "source": []
  },
  {
   "cell_type": "code",
   "execution_count": null,
   "metadata": {},
   "outputs": [],
   "source": [
    "# 5(a) Compute impulse responses and print the computed impulse responses\n",
    "model.impulse(T=41,t0=5,shock=None,percent=True)\n",
    "\n",
    "# 5(b) Plot the computed impulse responses to a TFP shock\n",
    "fig = plt.figure(figsize=(12,12))\n",
    "\n",
    "ax1 = fig.add_subplot(3,2,1)\n",
    "model.irs['eA'][['y']].plot(lw=5,alpha=0.5,grid=True,ax = ax1).legend(loc='upper right',ncol=4)\n",
    "ax1.set_title('Output, investment, capital')\n",
    "ax1.set_ylabel('% dev')\n",
    "ax1.set_xlabel('quarters')\n",
    "\n",
    "ax2 = fig.add_subplot(3,2,2)\n",
    "model.irs['eA'][['a','eA']].plot(lw=5,alpha=0.5,grid=True,ax = ax2).legend(loc='upper right',ncol=2)\n",
    "ax2.set_title('TFP and TFP shock')\n",
    "ax2.set_ylabel('% dev')\n",
    "ax2.set_xlabel('quarters')\n",
    "\n",
    "ax3 = fig.add_subplot(3,2,3)\n",
    "model.irs['eA'][['l']].plot(lw=5,alpha=0.5,grid=True,ax = ax3).legend(loc='upper right',ncol=4)\n",
    "ax3.set_title('Output, consumption, and labor')\n",
    "ax3.set_ylabel('% dev')\n",
    "ax3.set_xlabel('quarters')\n",
    "\n",
    "plt.tight_layout()"
   ]
  },
  {
   "cell_type": "code",
   "execution_count": null,
   "metadata": {},
   "outputs": [],
   "source": [
    "# 6(a) Compute stochastic simulation and print the simulated values\n",
    "model.stoch_sim(seed=192,covMat= [[parameters['sigma']**2,0],[0,0]])\n",
    "\n",
    "# 6(b) Plot the computed stochastic simulation\n",
    "fig = plt.figure(figsize=(12,4))\n",
    "\n",
    "ax1 = fig.add_subplot(1,2,1)\n",
    "model.simulated[['k','c','y','i','l']].plot(lw=5,alpha=0.5,grid=True,ax = ax1).legend(ncol=5,bbox_to_anchor=(0., 1.02, 1., .102), loc=3, mode=\"expand\")\n",
    "\n",
    "ax2 = fig.add_subplot(1,2,2)\n",
    "model.simulated[['eA','a']].plot(lw=5,alpha=0.5,grid=True,ax = ax2).legend(ncol=2,bbox_to_anchor=(0., 1.02, 1., .102), loc=3)"
   ]
  },
  {
   "cell_type": "code",
   "execution_count": null,
   "metadata": {
    "collapsed": true
   },
   "outputs": [],
   "source": []
  },
  {
   "cell_type": "code",
   "execution_count": null,
   "metadata": {
    "collapsed": true
   },
   "outputs": [],
   "source": []
  },
  {
   "cell_type": "code",
   "execution_count": null,
   "metadata": {
    "collapsed": true
   },
   "outputs": [],
   "source": []
  },
  {
   "cell_type": "code",
   "execution_count": null,
   "metadata": {
    "collapsed": true
   },
   "outputs": [],
   "source": []
  },
  {
   "cell_type": "code",
   "execution_count": null,
   "metadata": {
    "collapsed": true
   },
   "outputs": [],
   "source": []
  },
  {
   "cell_type": "code",
   "execution_count": null,
   "metadata": {
    "collapsed": true
   },
   "outputs": [],
   "source": []
  },
  {
   "cell_type": "code",
   "execution_count": null,
   "metadata": {
    "collapsed": true
   },
   "outputs": [],
   "source": []
  },
  {
   "cell_type": "code",
   "execution_count": null,
   "metadata": {
    "collapsed": true
   },
   "outputs": [],
   "source": []
  },
  {
   "cell_type": "code",
   "execution_count": null,
   "metadata": {
    "collapsed": true
   },
   "outputs": [],
   "source": []
  },
  {
   "cell_type": "code",
   "execution_count": null,
   "metadata": {
    "collapsed": true
   },
   "outputs": [],
   "source": []
  }
 ],
 "metadata": {
  "anaconda-cloud": {},
  "kernelspec": {
   "display_name": "Python 3",
   "language": "python",
   "name": "python3"
  },
  "language_info": {
   "codemirror_mode": {
    "name": "ipython",
    "version": 3
   },
   "file_extension": ".py",
   "mimetype": "text/x-python",
   "name": "python",
   "nbconvert_exporter": "python",
   "pygments_lexer": "ipython3",
   "version": "3.6.3"
  }
 },
 "nbformat": 4,
 "nbformat_minor": 1
}
